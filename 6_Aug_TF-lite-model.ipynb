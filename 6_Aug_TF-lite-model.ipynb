{
 "cells": [
  {
   "cell_type": "markdown",
   "id": "f18746d3-789d-4610-9375-87ac5e35703f",
   "metadata": {},
   "source": [
    "Import dependencies"
   ]
  },
  {
   "cell_type": "code",
   "execution_count": 1,
   "id": "84813501-9d73-4309-accb-867a9ab31d1c",
   "metadata": {},
   "outputs": [],
   "source": [
    "import numpy as np\n",
    "import os\n",
    "import pandas as pd\n",
    "\n",
    "from tflite_model_maker.config import ExportFormat\n",
    "from tflite_model_maker import model_spec\n",
    "from tflite_model_maker import object_detector\n",
    "\n",
    "import tensorflow as tf\n",
    "assert tf.__version__.startswith('2')\n",
    "\n",
    "tf.get_logger().setLevel('ERROR')\n",
    "from absl import logging\n",
    "logging.set_verbosity(logging.ERROR)"
   ]
  },
  {
   "cell_type": "markdown",
   "id": "047eb953-6c44-48ee-ac84-7560b5ede47f",
   "metadata": {},
   "source": [
    "Directory"
   ]
  },
  {
   "cell_type": "code",
   "execution_count": 2,
   "id": "038aae79-bd97-44eb-97fa-894f0a6b6c82",
   "metadata": {},
   "outputs": [
    {
     "name": "stdout",
     "output_type": "stream",
     "text": [
      "C:\\Users\\billk\\Desktop\\Git\\spirochete_vision\\images\n"
     ]
    }
   ],
   "source": [
    "os.chdir(os.getcwd()+'/images')\n",
    "print(os.getcwd())"
   ]
  },
  {
   "cell_type": "code",
   "execution_count": 3,
   "id": "00ffb0f8-ba17-499e-97f0-713979680f41",
   "metadata": {},
   "outputs": [
    {
     "data": {
      "text/html": [
       "<div>\n",
       "<style scoped>\n",
       "    .dataframe tbody tr th:only-of-type {\n",
       "        vertical-align: middle;\n",
       "    }\n",
       "\n",
       "    .dataframe tbody tr th {\n",
       "        vertical-align: top;\n",
       "    }\n",
       "\n",
       "    .dataframe thead th {\n",
       "        text-align: right;\n",
       "    }\n",
       "</style>\n",
       "<table border=\"1\" class=\"dataframe\">\n",
       "  <thead>\n",
       "    <tr style=\"text-align: right;\">\n",
       "      <th></th>\n",
       "      <th>0</th>\n",
       "      <th>1</th>\n",
       "      <th>2</th>\n",
       "      <th>3</th>\n",
       "      <th>4</th>\n",
       "      <th>5</th>\n",
       "      <th>6</th>\n",
       "      <th>7</th>\n",
       "      <th>8</th>\n",
       "      <th>9</th>\n",
       "      <th>10</th>\n",
       "    </tr>\n",
       "  </thead>\n",
       "  <tbody>\n",
       "    <tr>\n",
       "      <th>0</th>\n",
       "      <td>traingroup</td>\n",
       "      <td>filepath</td>\n",
       "      <td>object_class</td>\n",
       "      <td>xmin</td>\n",
       "      <td>ymin</td>\n",
       "      <td>TRX</td>\n",
       "      <td>TRY</td>\n",
       "      <td>xmax</td>\n",
       "      <td>ymax</td>\n",
       "      <td>BLX</td>\n",
       "      <td>BLY</td>\n",
       "    </tr>\n",
       "    <tr>\n",
       "      <th>1</th>\n",
       "      <td>TRAINING</td>\n",
       "      <td>1.jpg</td>\n",
       "      <td>1</td>\n",
       "      <td>0.7052083333333333</td>\n",
       "      <td>0.3885416666666667</td>\n",
       "      <td>NaN</td>\n",
       "      <td>NaN</td>\n",
       "      <td>0.7927083333333333</td>\n",
       "      <td>0.4177083333333333</td>\n",
       "      <td>NaN</td>\n",
       "      <td>NaN</td>\n",
       "    </tr>\n",
       "    <tr>\n",
       "      <th>2</th>\n",
       "      <td>TESTING</td>\n",
       "      <td>10.jpg</td>\n",
       "      <td>1</td>\n",
       "      <td>0.5208333333333334</td>\n",
       "      <td>0.4875</td>\n",
       "      <td>NaN</td>\n",
       "      <td>NaN</td>\n",
       "      <td>0.5760416666666667</td>\n",
       "      <td>0.559375</td>\n",
       "      <td>NaN</td>\n",
       "      <td>NaN</td>\n",
       "    </tr>\n",
       "    <tr>\n",
       "      <th>3</th>\n",
       "      <td>TRAINING</td>\n",
       "      <td>100.jpg</td>\n",
       "      <td>1</td>\n",
       "      <td>0.6096822995461422</td>\n",
       "      <td>0.6308623298033282</td>\n",
       "      <td>NaN</td>\n",
       "      <td>NaN</td>\n",
       "      <td>0.7246596066565809</td>\n",
       "      <td>0.7170953101361573</td>\n",
       "      <td>NaN</td>\n",
       "      <td>NaN</td>\n",
       "    </tr>\n",
       "    <tr>\n",
       "      <th>4</th>\n",
       "      <td>TRAINING</td>\n",
       "      <td>100.jpg</td>\n",
       "      <td>1</td>\n",
       "      <td>0.6671709531013615</td>\n",
       "      <td>0.7549167927382754</td>\n",
       "      <td>NaN</td>\n",
       "      <td>NaN</td>\n",
       "      <td>0.8290468986384266</td>\n",
       "      <td>0.8517397881996974</td>\n",
       "      <td>NaN</td>\n",
       "      <td>NaN</td>\n",
       "    </tr>\n",
       "    <tr>\n",
       "      <th>...</th>\n",
       "      <td>...</td>\n",
       "      <td>...</td>\n",
       "      <td>...</td>\n",
       "      <td>...</td>\n",
       "      <td>...</td>\n",
       "      <td>...</td>\n",
       "      <td>...</td>\n",
       "      <td>...</td>\n",
       "      <td>...</td>\n",
       "      <td>...</td>\n",
       "      <td>...</td>\n",
       "    </tr>\n",
       "    <tr>\n",
       "      <th>940</th>\n",
       "      <td>TRAINING</td>\n",
       "      <td>a7clock.jpg</td>\n",
       "      <td>1</td>\n",
       "      <td>0.045454545454545414</td>\n",
       "      <td>0.435064935064935</td>\n",
       "      <td>NaN</td>\n",
       "      <td>NaN</td>\n",
       "      <td>0.22077922077922074</td>\n",
       "      <td>0.551948051948052</td>\n",
       "      <td>NaN</td>\n",
       "      <td>NaN</td>\n",
       "    </tr>\n",
       "    <tr>\n",
       "      <th>941</th>\n",
       "      <td>TRAINING</td>\n",
       "      <td>a7clock.jpg</td>\n",
       "      <td>1</td>\n",
       "      <td>0.4285714285714286</td>\n",
       "      <td>0.3051948051948052</td>\n",
       "      <td>NaN</td>\n",
       "      <td>NaN</td>\n",
       "      <td>0.6038961038961039</td>\n",
       "      <td>0.435064935064935</td>\n",
       "      <td>NaN</td>\n",
       "      <td>NaN</td>\n",
       "    </tr>\n",
       "    <tr>\n",
       "      <th>942</th>\n",
       "      <td>TRAINING</td>\n",
       "      <td>a7clock.jpg</td>\n",
       "      <td>1</td>\n",
       "      <td>0.7532467532467533</td>\n",
       "      <td>0.09740259740259735</td>\n",
       "      <td>NaN</td>\n",
       "      <td>NaN</td>\n",
       "      <td>0.9805194805194806</td>\n",
       "      <td>0.24025974025974015</td>\n",
       "      <td>NaN</td>\n",
       "      <td>NaN</td>\n",
       "    </tr>\n",
       "    <tr>\n",
       "      <th>943</th>\n",
       "      <td>TRAINING</td>\n",
       "      <td>a8clock.jpg</td>\n",
       "      <td>1</td>\n",
       "      <td>0.3405405405405405</td>\n",
       "      <td>0.1891891891891892</td>\n",
       "      <td>NaN</td>\n",
       "      <td>NaN</td>\n",
       "      <td>0.5351351351351351</td>\n",
       "      <td>0.5459459459459459</td>\n",
       "      <td>NaN</td>\n",
       "      <td>NaN</td>\n",
       "    </tr>\n",
       "    <tr>\n",
       "      <th>944</th>\n",
       "      <td>TESTING</td>\n",
       "      <td>a9clock.jpg</td>\n",
       "      <td>1</td>\n",
       "      <td>0.377431906614786</td>\n",
       "      <td>0.4124513618677042</td>\n",
       "      <td>NaN</td>\n",
       "      <td>NaN</td>\n",
       "      <td>0.6653696498054475</td>\n",
       "      <td>0.556420233463035</td>\n",
       "      <td>NaN</td>\n",
       "      <td>NaN</td>\n",
       "    </tr>\n",
       "  </tbody>\n",
       "</table>\n",
       "<p>945 rows × 11 columns</p>\n",
       "</div>"
      ],
      "text/plain": [
       "             0            1             2                     3   \\\n",
       "0    traingroup     filepath  object_class                  xmin   \n",
       "1      TRAINING        1.jpg             1    0.7052083333333333   \n",
       "2       TESTING       10.jpg             1    0.5208333333333334   \n",
       "3      TRAINING      100.jpg             1    0.6096822995461422   \n",
       "4      TRAINING      100.jpg             1    0.6671709531013615   \n",
       "..          ...          ...           ...                   ...   \n",
       "940    TRAINING  a7clock.jpg             1  0.045454545454545414   \n",
       "941    TRAINING  a7clock.jpg             1    0.4285714285714286   \n",
       "942    TRAINING  a7clock.jpg             1    0.7532467532467533   \n",
       "943    TRAINING  a8clock.jpg             1    0.3405405405405405   \n",
       "944     TESTING  a9clock.jpg             1     0.377431906614786   \n",
       "\n",
       "                      4    5    6                    7                    8   \\\n",
       "0                   ymin  TRX  TRY                 xmax                 ymax   \n",
       "1     0.3885416666666667  NaN  NaN   0.7927083333333333   0.4177083333333333   \n",
       "2                 0.4875  NaN  NaN   0.5760416666666667             0.559375   \n",
       "3     0.6308623298033282  NaN  NaN   0.7246596066565809   0.7170953101361573   \n",
       "4     0.7549167927382754  NaN  NaN   0.8290468986384266   0.8517397881996974   \n",
       "..                   ...  ...  ...                  ...                  ...   \n",
       "940    0.435064935064935  NaN  NaN  0.22077922077922074    0.551948051948052   \n",
       "941   0.3051948051948052  NaN  NaN   0.6038961038961039    0.435064935064935   \n",
       "942  0.09740259740259735  NaN  NaN   0.9805194805194806  0.24025974025974015   \n",
       "943   0.1891891891891892  NaN  NaN   0.5351351351351351   0.5459459459459459   \n",
       "944   0.4124513618677042  NaN  NaN   0.6653696498054475    0.556420233463035   \n",
       "\n",
       "      9    10  \n",
       "0    BLX  BLY  \n",
       "1    NaN  NaN  \n",
       "2    NaN  NaN  \n",
       "3    NaN  NaN  \n",
       "4    NaN  NaN  \n",
       "..   ...  ...  \n",
       "940  NaN  NaN  \n",
       "941  NaN  NaN  \n",
       "942  NaN  NaN  \n",
       "943  NaN  NaN  \n",
       "944  NaN  NaN  \n",
       "\n",
       "[945 rows x 11 columns]"
      ]
     },
     "execution_count": 3,
     "metadata": {},
     "output_type": "execute_result"
    }
   ],
   "source": [
    "pd.read_csv('data_aug.csv', header=None)"
   ]
  },
  {
   "cell_type": "markdown",
   "id": "42d1cb39-a4b4-424e-a49e-42b2f9784d9a",
   "metadata": {},
   "source": [
    "Specify model"
   ]
  },
  {
   "cell_type": "code",
   "execution_count": 4,
   "id": "8b109c32-c730-4f21-8cda-45404e3e3e16",
   "metadata": {},
   "outputs": [],
   "source": [
    "spec = model_spec.get('efficientdet_lite2')\n",
    "spec.config.tflite_max_detections = 100"
   ]
  },
  {
   "cell_type": "markdown",
   "id": "6821390a-a3c1-4147-93ba-eda5415d6932",
   "metadata": {},
   "source": [
    "Use data loader"
   ]
  },
  {
   "cell_type": "code",
   "execution_count": 5,
   "id": "e6463384-5a9c-4790-b1be-f8068341ea2e",
   "metadata": {},
   "outputs": [],
   "source": [
    "train_data, validation_data, test_data = object_detector.DataLoader.from_csv('data_aug.csv')"
   ]
  },
  {
   "cell_type": "markdown",
   "id": "64e3ab0b-116c-4d95-8777-e53cdf4723c2",
   "metadata": {},
   "source": [
    "Train model"
   ]
  },
  {
   "cell_type": "code",
   "execution_count": 6,
   "id": "a94a6e2e-48a4-4602-aa30-8c91287bf07b",
   "metadata": {},
   "outputs": [
    {
     "name": "stdout",
     "output_type": "stream",
     "text": [
      "Epoch 1/50\n",
      "29/29 [==============================] - 70s 763ms/step - det_loss: 1.7604 - cls_loss: 1.0964 - box_loss: 0.0133 - reg_l2_loss: 0.0761 - loss: 1.8365 - learning_rate: 0.0096 - gradient_norm: 2.2546 - val_det_loss: 1.4035 - val_cls_loss: 0.8803 - val_box_loss: 0.0105 - val_reg_l2_loss: 0.0761 - val_loss: 1.4796\n",
      "Epoch 2/50\n",
      "29/29 [==============================] - 17s 573ms/step - det_loss: 1.1606 - cls_loss: 0.6443 - box_loss: 0.0103 - reg_l2_loss: 0.0761 - loss: 1.2368 - learning_rate: 0.0112 - gradient_norm: 3.9923 - val_det_loss: 1.4099 - val_cls_loss: 0.8307 - val_box_loss: 0.0116 - val_reg_l2_loss: 0.0762 - val_loss: 1.4861\n",
      "Epoch 3/50\n",
      "29/29 [==============================] - 17s 591ms/step - det_loss: 0.9149 - cls_loss: 0.5017 - box_loss: 0.0083 - reg_l2_loss: 0.0762 - loss: 0.9912 - learning_rate: 0.0112 - gradient_norm: 4.7006 - val_det_loss: 1.4161 - val_cls_loss: 0.7877 - val_box_loss: 0.0126 - val_reg_l2_loss: 0.0763 - val_loss: 1.4924\n",
      "Epoch 4/50\n",
      "29/29 [==============================] - 17s 580ms/step - det_loss: 0.8170 - cls_loss: 0.4685 - box_loss: 0.0070 - reg_l2_loss: 0.0764 - loss: 0.8933 - learning_rate: 0.0111 - gradient_norm: 4.7708 - val_det_loss: 1.3312 - val_cls_loss: 0.7807 - val_box_loss: 0.0110 - val_reg_l2_loss: 0.0764 - val_loss: 1.4077\n",
      "Epoch 5/50\n",
      "29/29 [==============================] - 17s 573ms/step - det_loss: 0.7330 - cls_loss: 0.4194 - box_loss: 0.0063 - reg_l2_loss: 0.0765 - loss: 0.8095 - learning_rate: 0.0110 - gradient_norm: 4.1434 - val_det_loss: 1.1993 - val_cls_loss: 0.7183 - val_box_loss: 0.0096 - val_reg_l2_loss: 0.0766 - val_loss: 1.2759\n",
      "Epoch 6/50\n",
      "29/29 [==============================] - 17s 598ms/step - det_loss: 0.7152 - cls_loss: 0.4228 - box_loss: 0.0058 - reg_l2_loss: 0.0766 - loss: 0.7918 - learning_rate: 0.0109 - gradient_norm: 4.2662 - val_det_loss: 1.2276 - val_cls_loss: 0.7719 - val_box_loss: 0.0091 - val_reg_l2_loss: 0.0767 - val_loss: 1.3043\n",
      "Epoch 7/50\n",
      "29/29 [==============================] - 17s 594ms/step - det_loss: 0.6418 - cls_loss: 0.3845 - box_loss: 0.0051 - reg_l2_loss: 0.0767 - loss: 0.7185 - learning_rate: 0.0108 - gradient_norm: 3.7701 - val_det_loss: 0.8207 - val_cls_loss: 0.4256 - val_box_loss: 0.0079 - val_reg_l2_loss: 0.0768 - val_loss: 0.8975\n",
      "Epoch 8/50\n",
      "29/29 [==============================] - 17s 587ms/step - det_loss: 0.6213 - cls_loss: 0.3751 - box_loss: 0.0049 - reg_l2_loss: 0.0768 - loss: 0.6981 - learning_rate: 0.0106 - gradient_norm: 3.7592 - val_det_loss: 0.8159 - val_cls_loss: 0.4567 - val_box_loss: 0.0072 - val_reg_l2_loss: 0.0768 - val_loss: 0.8927\n",
      "Epoch 9/50\n",
      "29/29 [==============================] - 17s 588ms/step - det_loss: 0.6165 - cls_loss: 0.3841 - box_loss: 0.0046 - reg_l2_loss: 0.0769 - loss: 0.6934 - learning_rate: 0.0104 - gradient_norm: 3.8106 - val_det_loss: 0.7110 - val_cls_loss: 0.4414 - val_box_loss: 0.0054 - val_reg_l2_loss: 0.0769 - val_loss: 0.7880\n",
      "Epoch 10/50\n",
      "29/29 [==============================] - 17s 582ms/step - det_loss: 0.6279 - cls_loss: 0.3698 - box_loss: 0.0052 - reg_l2_loss: 0.0770 - loss: 0.7048 - learning_rate: 0.0102 - gradient_norm: 3.7851 - val_det_loss: 0.8480 - val_cls_loss: 0.4621 - val_box_loss: 0.0077 - val_reg_l2_loss: 0.0770 - val_loss: 0.9250\n",
      "Epoch 11/50\n",
      "29/29 [==============================] - 17s 570ms/step - det_loss: 0.5748 - cls_loss: 0.3458 - box_loss: 0.0046 - reg_l2_loss: 0.0770 - loss: 0.6518 - learning_rate: 0.0100 - gradient_norm: 3.1325 - val_det_loss: 0.8416 - val_cls_loss: 0.4745 - val_box_loss: 0.0073 - val_reg_l2_loss: 0.0770 - val_loss: 0.9187\n",
      "Epoch 12/50\n",
      "29/29 [==============================] - 17s 573ms/step - det_loss: 0.5756 - cls_loss: 0.3529 - box_loss: 0.0045 - reg_l2_loss: 0.0771 - loss: 0.6527 - learning_rate: 0.0098 - gradient_norm: 3.3620 - val_det_loss: 0.9927 - val_cls_loss: 0.6510 - val_box_loss: 0.0068 - val_reg_l2_loss: 0.0771 - val_loss: 1.0698\n",
      "Epoch 13/50\n",
      "29/29 [==============================] - 17s 586ms/step - det_loss: 0.5105 - cls_loss: 0.3114 - box_loss: 0.0040 - reg_l2_loss: 0.0771 - loss: 0.5876 - learning_rate: 0.0095 - gradient_norm: 2.9744 - val_det_loss: 0.7534 - val_cls_loss: 0.4655 - val_box_loss: 0.0058 - val_reg_l2_loss: 0.0771 - val_loss: 0.8305\n",
      "Epoch 14/50\n",
      "29/29 [==============================] - 18s 608ms/step - det_loss: 0.5540 - cls_loss: 0.3310 - box_loss: 0.0045 - reg_l2_loss: 0.0771 - loss: 0.6312 - learning_rate: 0.0093 - gradient_norm: 3.6192 - val_det_loss: 0.6504 - val_cls_loss: 0.3787 - val_box_loss: 0.0054 - val_reg_l2_loss: 0.0772 - val_loss: 0.7276\n",
      "Epoch 15/50\n",
      "29/29 [==============================] - 16s 555ms/step - det_loss: 0.5123 - cls_loss: 0.3077 - box_loss: 0.0041 - reg_l2_loss: 0.0772 - loss: 0.5895 - learning_rate: 0.0090 - gradient_norm: 3.2165 - val_det_loss: 0.6868 - val_cls_loss: 0.3971 - val_box_loss: 0.0058 - val_reg_l2_loss: 0.0772 - val_loss: 0.7640\n",
      "Epoch 16/50\n",
      "29/29 [==============================] - 17s 578ms/step - det_loss: 0.5027 - cls_loss: 0.3091 - box_loss: 0.0039 - reg_l2_loss: 0.0772 - loss: 0.5799 - learning_rate: 0.0087 - gradient_norm: 3.0788 - val_det_loss: 0.5957 - val_cls_loss: 0.3349 - val_box_loss: 0.0052 - val_reg_l2_loss: 0.0772 - val_loss: 0.6730\n",
      "Epoch 17/50\n",
      "29/29 [==============================] - 17s 584ms/step - det_loss: 0.4768 - cls_loss: 0.2938 - box_loss: 0.0037 - reg_l2_loss: 0.0772 - loss: 0.5540 - learning_rate: 0.0084 - gradient_norm: 3.2460 - val_det_loss: 0.7430 - val_cls_loss: 0.4799 - val_box_loss: 0.0053 - val_reg_l2_loss: 0.0772 - val_loss: 0.8202\n",
      "Epoch 18/50\n",
      "29/29 [==============================] - 17s 573ms/step - det_loss: 0.4793 - cls_loss: 0.2957 - box_loss: 0.0037 - reg_l2_loss: 0.0773 - loss: 0.5566 - learning_rate: 0.0081 - gradient_norm: 3.0272 - val_det_loss: 0.4907 - val_cls_loss: 0.2956 - val_box_loss: 0.0039 - val_reg_l2_loss: 0.0773 - val_loss: 0.5680\n",
      "Epoch 19/50\n",
      "29/29 [==============================] - 17s 575ms/step - det_loss: 0.5142 - cls_loss: 0.3167 - box_loss: 0.0040 - reg_l2_loss: 0.0773 - loss: 0.5915 - learning_rate: 0.0077 - gradient_norm: 3.3694 - val_det_loss: 0.4865 - val_cls_loss: 0.2834 - val_box_loss: 0.0041 - val_reg_l2_loss: 0.0773 - val_loss: 0.5638\n",
      "Epoch 20/50\n",
      "29/29 [==============================] - 17s 579ms/step - det_loss: 0.4862 - cls_loss: 0.2997 - box_loss: 0.0037 - reg_l2_loss: 0.0773 - loss: 0.5635 - learning_rate: 0.0074 - gradient_norm: 3.1243 - val_det_loss: 0.5203 - val_cls_loss: 0.3068 - val_box_loss: 0.0043 - val_reg_l2_loss: 0.0773 - val_loss: 0.5976\n",
      "Epoch 21/50\n",
      "29/29 [==============================] - 17s 587ms/step - det_loss: 0.4470 - cls_loss: 0.2800 - box_loss: 0.0033 - reg_l2_loss: 0.0773 - loss: 0.5244 - learning_rate: 0.0071 - gradient_norm: 2.8149 - val_det_loss: 0.4804 - val_cls_loss: 0.2666 - val_box_loss: 0.0043 - val_reg_l2_loss: 0.0773 - val_loss: 0.5578\n",
      "Epoch 22/50\n",
      "29/29 [==============================] - 17s 577ms/step - det_loss: 0.4415 - cls_loss: 0.2764 - box_loss: 0.0033 - reg_l2_loss: 0.0773 - loss: 0.5188 - learning_rate: 0.0067 - gradient_norm: 3.1862 - val_det_loss: 0.4361 - val_cls_loss: 0.2526 - val_box_loss: 0.0037 - val_reg_l2_loss: 0.0773 - val_loss: 0.5134\n",
      "Epoch 23/50\n",
      "29/29 [==============================] - 16s 570ms/step - det_loss: 0.4355 - cls_loss: 0.2665 - box_loss: 0.0034 - reg_l2_loss: 0.0773 - loss: 0.5129 - learning_rate: 0.0063 - gradient_norm: 2.9663 - val_det_loss: 0.4125 - val_cls_loss: 0.2438 - val_box_loss: 0.0034 - val_reg_l2_loss: 0.0774 - val_loss: 0.4898\n",
      "Epoch 24/50\n",
      "29/29 [==============================] - 16s 567ms/step - det_loss: 0.4376 - cls_loss: 0.2724 - box_loss: 0.0033 - reg_l2_loss: 0.0774 - loss: 0.5150 - learning_rate: 0.0060 - gradient_norm: 2.9897 - val_det_loss: 0.4103 - val_cls_loss: 0.2404 - val_box_loss: 0.0034 - val_reg_l2_loss: 0.0774 - val_loss: 0.4876\n",
      "Epoch 25/50\n",
      "29/29 [==============================] - 17s 579ms/step - det_loss: 0.4295 - cls_loss: 0.2661 - box_loss: 0.0033 - reg_l2_loss: 0.0774 - loss: 0.5069 - learning_rate: 0.0056 - gradient_norm: 2.9188 - val_det_loss: 0.4106 - val_cls_loss: 0.2425 - val_box_loss: 0.0034 - val_reg_l2_loss: 0.0774 - val_loss: 0.4880\n",
      "Epoch 26/50\n",
      "29/29 [==============================] - 17s 586ms/step - det_loss: 0.3983 - cls_loss: 0.2492 - box_loss: 0.0030 - reg_l2_loss: 0.0774 - loss: 0.4756 - learning_rate: 0.0053 - gradient_norm: 2.7743 - val_det_loss: 0.4465 - val_cls_loss: 0.2659 - val_box_loss: 0.0036 - val_reg_l2_loss: 0.0774 - val_loss: 0.5239\n",
      "Epoch 27/50\n",
      "29/29 [==============================] - 17s 577ms/step - det_loss: 0.4215 - cls_loss: 0.2679 - box_loss: 0.0031 - reg_l2_loss: 0.0774 - loss: 0.4989 - learning_rate: 0.0049 - gradient_norm: 3.0423 - val_det_loss: 0.4897 - val_cls_loss: 0.2787 - val_box_loss: 0.0042 - val_reg_l2_loss: 0.0774 - val_loss: 0.5671\n",
      "Epoch 28/50\n",
      "29/29 [==============================] - 17s 589ms/step - det_loss: 0.4264 - cls_loss: 0.2621 - box_loss: 0.0033 - reg_l2_loss: 0.0774 - loss: 0.5038 - learning_rate: 0.0046 - gradient_norm: 2.8638 - val_det_loss: 0.4584 - val_cls_loss: 0.2707 - val_box_loss: 0.0038 - val_reg_l2_loss: 0.0774 - val_loss: 0.5358\n",
      "Epoch 29/50\n",
      "29/29 [==============================] - 17s 588ms/step - det_loss: 0.4415 - cls_loss: 0.2727 - box_loss: 0.0034 - reg_l2_loss: 0.0774 - loss: 0.5188 - learning_rate: 0.0042 - gradient_norm: 3.2348 - val_det_loss: 0.4256 - val_cls_loss: 0.2547 - val_box_loss: 0.0034 - val_reg_l2_loss: 0.0774 - val_loss: 0.5030\n",
      "Epoch 30/50\n",
      "29/29 [==============================] - 17s 595ms/step - det_loss: 0.3968 - cls_loss: 0.2487 - box_loss: 0.0030 - reg_l2_loss: 0.0774 - loss: 0.4742 - learning_rate: 0.0039 - gradient_norm: 2.8618 - val_det_loss: 0.4775 - val_cls_loss: 0.2937 - val_box_loss: 0.0037 - val_reg_l2_loss: 0.0774 - val_loss: 0.5549\n",
      "Epoch 31/50\n",
      "29/29 [==============================] - 17s 594ms/step - det_loss: 0.3977 - cls_loss: 0.2530 - box_loss: 0.0029 - reg_l2_loss: 0.0774 - loss: 0.4751 - learning_rate: 0.0035 - gradient_norm: 3.0450 - val_det_loss: 0.4210 - val_cls_loss: 0.2553 - val_box_loss: 0.0033 - val_reg_l2_loss: 0.0774 - val_loss: 0.4984\n",
      "Epoch 32/50\n",
      "29/29 [==============================] - 17s 591ms/step - det_loss: 0.3867 - cls_loss: 0.2464 - box_loss: 0.0028 - reg_l2_loss: 0.0774 - loss: 0.4641 - learning_rate: 0.0032 - gradient_norm: 3.0603 - val_det_loss: 0.4246 - val_cls_loss: 0.2554 - val_box_loss: 0.0034 - val_reg_l2_loss: 0.0774 - val_loss: 0.5020\n",
      "Epoch 33/50\n",
      "29/29 [==============================] - 17s 582ms/step - det_loss: 0.3709 - cls_loss: 0.2351 - box_loss: 0.0027 - reg_l2_loss: 0.0774 - loss: 0.4483 - learning_rate: 0.0029 - gradient_norm: 2.7730 - val_det_loss: 0.3777 - val_cls_loss: 0.2294 - val_box_loss: 0.0030 - val_reg_l2_loss: 0.0774 - val_loss: 0.4551\n",
      "Epoch 34/50\n",
      "29/29 [==============================] - 17s 580ms/step - det_loss: 0.3834 - cls_loss: 0.2475 - box_loss: 0.0027 - reg_l2_loss: 0.0774 - loss: 0.4608 - learning_rate: 0.0026 - gradient_norm: 2.7862 - val_det_loss: 0.3853 - val_cls_loss: 0.2410 - val_box_loss: 0.0029 - val_reg_l2_loss: 0.0774 - val_loss: 0.4627\n",
      "Epoch 35/50\n",
      "29/29 [==============================] - 16s 566ms/step - det_loss: 0.3859 - cls_loss: 0.2439 - box_loss: 0.0028 - reg_l2_loss: 0.0774 - loss: 0.4633 - learning_rate: 0.0023 - gradient_norm: 2.7819 - val_det_loss: 0.3847 - val_cls_loss: 0.2384 - val_box_loss: 0.0029 - val_reg_l2_loss: 0.0774 - val_loss: 0.4621\n",
      "Epoch 36/50\n",
      "29/29 [==============================] - 17s 576ms/step - det_loss: 0.3555 - cls_loss: 0.2271 - box_loss: 0.0026 - reg_l2_loss: 0.0774 - loss: 0.4329 - learning_rate: 0.0020 - gradient_norm: 2.7079 - val_det_loss: 0.3812 - val_cls_loss: 0.2398 - val_box_loss: 0.0028 - val_reg_l2_loss: 0.0774 - val_loss: 0.4586\n",
      "Epoch 37/50\n",
      "29/29 [==============================] - 17s 594ms/step - det_loss: 0.3623 - cls_loss: 0.2274 - box_loss: 0.0027 - reg_l2_loss: 0.0774 - loss: 0.4397 - learning_rate: 0.0017 - gradient_norm: 2.5664 - val_det_loss: 0.3924 - val_cls_loss: 0.2410 - val_box_loss: 0.0030 - val_reg_l2_loss: 0.0774 - val_loss: 0.4698\n",
      "Epoch 38/50\n",
      "29/29 [==============================] - 17s 576ms/step - det_loss: 0.3455 - cls_loss: 0.2186 - box_loss: 0.0025 - reg_l2_loss: 0.0774 - loss: 0.4229 - learning_rate: 0.0015 - gradient_norm: 2.5856 - val_det_loss: 0.3681 - val_cls_loss: 0.2301 - val_box_loss: 0.0028 - val_reg_l2_loss: 0.0774 - val_loss: 0.4455\n",
      "Epoch 39/50\n",
      "29/29 [==============================] - 17s 581ms/step - det_loss: 0.3528 - cls_loss: 0.2266 - box_loss: 0.0025 - reg_l2_loss: 0.0774 - loss: 0.4302 - learning_rate: 0.0012 - gradient_norm: 2.8028 - val_det_loss: 0.3654 - val_cls_loss: 0.2267 - val_box_loss: 0.0028 - val_reg_l2_loss: 0.0774 - val_loss: 0.4428\n",
      "Epoch 40/50\n",
      "29/29 [==============================] - 17s 584ms/step - det_loss: 0.3353 - cls_loss: 0.2148 - box_loss: 0.0024 - reg_l2_loss: 0.0774 - loss: 0.4126 - learning_rate: 0.0010 - gradient_norm: 2.6370 - val_det_loss: 0.3777 - val_cls_loss: 0.2372 - val_box_loss: 0.0028 - val_reg_l2_loss: 0.0774 - val_loss: 0.4551\n",
      "Epoch 41/50\n",
      "29/29 [==============================] - 17s 589ms/step - det_loss: 0.3710 - cls_loss: 0.2330 - box_loss: 0.0028 - reg_l2_loss: 0.0774 - loss: 0.4484 - learning_rate: 8.1591e-04 - gradient_norm: 2.8200 - val_det_loss: 0.3862 - val_cls_loss: 0.2376 - val_box_loss: 0.0030 - val_reg_l2_loss: 0.0774 - val_loss: 0.4636\n",
      "Epoch 42/50\n",
      "29/29 [==============================] - 17s 598ms/step - det_loss: 0.3618 - cls_loss: 0.2330 - box_loss: 0.0026 - reg_l2_loss: 0.0774 - loss: 0.4392 - learning_rate: 6.3897e-04 - gradient_norm: 2.9205 - val_det_loss: 0.3902 - val_cls_loss: 0.2413 - val_box_loss: 0.0030 - val_reg_l2_loss: 0.0774 - val_loss: 0.4676\n",
      "Epoch 43/50\n",
      "29/29 [==============================] - 16s 567ms/step - det_loss: 0.3447 - cls_loss: 0.2203 - box_loss: 0.0025 - reg_l2_loss: 0.0774 - loss: 0.4221 - learning_rate: 4.8253e-04 - gradient_norm: 2.5293 - val_det_loss: 0.3782 - val_cls_loss: 0.2349 - val_box_loss: 0.0029 - val_reg_l2_loss: 0.0774 - val_loss: 0.4556\n",
      "Epoch 44/50\n",
      "29/29 [==============================] - 17s 597ms/step - det_loss: 0.3389 - cls_loss: 0.2164 - box_loss: 0.0024 - reg_l2_loss: 0.0774 - loss: 0.4162 - learning_rate: 3.4721e-04 - gradient_norm: 2.8380 - val_det_loss: 0.3757 - val_cls_loss: 0.2326 - val_box_loss: 0.0029 - val_reg_l2_loss: 0.0774 - val_loss: 0.4531\n",
      "Epoch 45/50\n",
      "29/29 [==============================] - 18s 608ms/step - det_loss: 0.3617 - cls_loss: 0.2271 - box_loss: 0.0027 - reg_l2_loss: 0.0774 - loss: 0.4391 - learning_rate: 2.3359e-04 - gradient_norm: 2.9437 - val_det_loss: 0.3692 - val_cls_loss: 0.2295 - val_box_loss: 0.0028 - val_reg_l2_loss: 0.0774 - val_loss: 0.4466\n",
      "Epoch 46/50\n",
      "29/29 [==============================] - 17s 597ms/step - det_loss: 0.3407 - cls_loss: 0.2233 - box_loss: 0.0023 - reg_l2_loss: 0.0774 - loss: 0.4181 - learning_rate: 1.4211e-04 - gradient_norm: 2.6579 - val_det_loss: 0.3677 - val_cls_loss: 0.2300 - val_box_loss: 0.0028 - val_reg_l2_loss: 0.0774 - val_loss: 0.4451\n",
      "Epoch 47/50\n",
      "29/29 [==============================] - 17s 593ms/step - det_loss: 0.3490 - cls_loss: 0.2178 - box_loss: 0.0026 - reg_l2_loss: 0.0774 - loss: 0.4264 - learning_rate: 7.3172e-05 - gradient_norm: 2.6393 - val_det_loss: 0.3635 - val_cls_loss: 0.2275 - val_box_loss: 0.0027 - val_reg_l2_loss: 0.0774 - val_loss: 0.4409\n",
      "Epoch 48/50\n",
      "29/29 [==============================] - 17s 580ms/step - det_loss: 0.3686 - cls_loss: 0.2294 - box_loss: 0.0028 - reg_l2_loss: 0.0774 - loss: 0.4460 - learning_rate: 2.7045e-05 - gradient_norm: 2.8712 - val_det_loss: 0.3607 - val_cls_loss: 0.2259 - val_box_loss: 0.0027 - val_reg_l2_loss: 0.0774 - val_loss: 0.4381\n",
      "Epoch 49/50\n",
      "29/29 [==============================] - 17s 572ms/step - det_loss: 0.3422 - cls_loss: 0.2175 - box_loss: 0.0025 - reg_l2_loss: 0.0774 - loss: 0.4196 - learning_rate: 3.9197e-06 - gradient_norm: 2.6217 - val_det_loss: 0.3587 - val_cls_loss: 0.2248 - val_box_loss: 0.0027 - val_reg_l2_loss: 0.0774 - val_loss: 0.4361\n",
      "Epoch 50/50\n",
      "29/29 [==============================] - 17s 575ms/step - det_loss: 0.3396 - cls_loss: 0.2182 - box_loss: 0.0024 - reg_l2_loss: 0.0774 - loss: 0.4170 - learning_rate: 3.8932e-06 - gradient_norm: 2.7496 - val_det_loss: 0.3588 - val_cls_loss: 0.2247 - val_box_loss: 0.0027 - val_reg_l2_loss: 0.0774 - val_loss: 0.4362\n"
     ]
    }
   ],
   "source": [
    "model = object_detector.create(train_data, model_spec=spec, batch_size=9, epochs=50, train_whole_model=True, validation_data=validation_data)"
   ]
  },
  {
   "cell_type": "markdown",
   "id": "3c8334c6-247e-4f24-87be-45aa715df7a4",
   "metadata": {},
   "source": [
    "Evaluate"
   ]
  },
  {
   "cell_type": "code",
   "execution_count": 7,
   "id": "a2cd31f7-d722-4b9a-95f7-d39696ee0914",
   "metadata": {},
   "outputs": [
    {
     "name": "stdout",
     "output_type": "stream",
     "text": [
      "1/1 [==============================] - 7s 7s/step\n",
      "\n"
     ]
    },
    {
     "data": {
      "text/plain": [
       "{'AP': 0.4258096,\n",
       " 'AP50': 0.6186683,\n",
       " 'AP75': 0.47948548,\n",
       " 'APs': 0.4730033,\n",
       " 'APm': 0.44951567,\n",
       " 'APl': 0.28333333,\n",
       " 'ARmax1': 0.39364865,\n",
       " 'ARmax10': 0.6822973,\n",
       " 'ARmax100': 0.6924324,\n",
       " 'ARs': 0.76666665,\n",
       " 'ARm': 0.69142854,\n",
       " 'ARl': 0.9,\n",
       " 'AP_/object_class': -1.0,\n",
       " 'AP_/1': 0.625259,\n",
       " 'AP_/2': 0.2263602}"
      ]
     },
     "execution_count": 7,
     "metadata": {},
     "output_type": "execute_result"
    }
   ],
   "source": [
    "model.evaluate(test_data)"
   ]
  },
  {
   "cell_type": "code",
   "execution_count": 8,
   "id": "b047c13e-e761-4a1c-a5d7-dd2ca8224a37",
   "metadata": {},
   "outputs": [],
   "source": [
    "model.export(export_dir='.')"
   ]
  },
  {
   "cell_type": "code",
   "execution_count": 9,
   "id": "8c26a733-2610-4d4e-aaa3-ee9c72495d27",
   "metadata": {},
   "outputs": [
    {
     "name": "stdout",
     "output_type": "stream",
     "text": [
      "36/36 [==============================] - 750s 21s/step\n",
      "\n"
     ]
    },
    {
     "data": {
      "text/plain": [
       "{'AP': 0.35893905,\n",
       " 'AP50': 0.5247317,\n",
       " 'AP75': 0.43326393,\n",
       " 'APs': 0.45584157,\n",
       " 'APm': 0.37762928,\n",
       " 'APl': 0.28333333,\n",
       " 'ARmax1': 0.32959458,\n",
       " 'ARmax10': 0.5285135,\n",
       " 'ARmax100': 0.53864866,\n",
       " 'ARs': 0.7,\n",
       " 'ARm': 0.5371429,\n",
       " 'ARl': 0.9,\n",
       " 'AP_/object_class': -1.0,\n",
       " 'AP_/1': 0.5845867,\n",
       " 'AP_/2': 0.13329145}"
      ]
     },
     "execution_count": 9,
     "metadata": {},
     "output_type": "execute_result"
    }
   ],
   "source": [
    "model.evaluate_tflite('model.tflite', test_data)"
   ]
  },
  {
   "cell_type": "markdown",
   "id": "39a381e4",
   "metadata": {},
   "source": [
    "##### "
   ]
  }
 ],
 "metadata": {
  "kernelspec": {
   "display_name": "Python 3",
   "language": "python",
   "name": "python3"
  },
  "language_info": {
   "codemirror_mode": {
    "name": "ipython",
    "version": 3
   },
   "file_extension": ".py",
   "mimetype": "text/x-python",
   "name": "python",
   "nbconvert_exporter": "python",
   "pygments_lexer": "ipython3",
   "version": "3.8.8"
  }
 },
 "nbformat": 4,
 "nbformat_minor": 5
}

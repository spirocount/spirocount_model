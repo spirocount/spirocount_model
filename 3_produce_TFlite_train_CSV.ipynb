{
 "cells": [
  {
   "cell_type": "markdown",
   "id": "5a8702f3-1f45-4a23-b414-661e2cc67f8c",
   "metadata": {},
   "source": [
    "Import dependencies"
   ]
  },
  {
   "cell_type": "code",
   "execution_count": 1,
   "id": "be8d3380-3fa5-4f7a-beeb-d9f92f4a31b0",
   "metadata": {
    "tags": []
   },
   "outputs": [],
   "source": [
    "import os\n",
    "import pandas as pd\n",
    "import numpy as np"
   ]
  },
  {
   "cell_type": "markdown",
   "id": "b9d36c0d-af95-4b82-a86f-faa2db8bd0c3",
   "metadata": {},
   "source": [
    "Check directory and file names"
   ]
  },
  {
   "cell_type": "code",
   "execution_count": 2,
   "id": "ac32b141-24c1-484f-8c31-6083c288c49d",
   "metadata": {},
   "outputs": [
    {
     "name": "stdout",
     "output_type": "stream",
     "text": [
      "C:\\Users\\billk\\Desktop\\to_annotate\n"
     ]
    }
   ],
   "source": [
    "os.chdir(r'C:\\Users\\billk\\Desktop\\to_annotate')\n",
    "print(os.getcwd())"
   ]
  },
  {
   "cell_type": "markdown",
   "id": "df571ea9-8661-4333-9ed3-4f24e11bc045",
   "metadata": {},
   "source": [
    "Open csv"
   ]
  },
  {
   "cell_type": "code",
   "execution_count": 3,
   "id": "628d98da-46f5-4d79-9b3e-aa43d8e925d6",
   "metadata": {},
   "outputs": [
    {
     "data": {
      "text/html": [
       "<div>\n",
       "<style scoped>\n",
       "    .dataframe tbody tr th:only-of-type {\n",
       "        vertical-align: middle;\n",
       "    }\n",
       "\n",
       "    .dataframe tbody tr th {\n",
       "        vertical-align: top;\n",
       "    }\n",
       "\n",
       "    .dataframe thead th {\n",
       "        text-align: right;\n",
       "    }\n",
       "</style>\n",
       "<table border=\"1\" class=\"dataframe\">\n",
       "  <thead>\n",
       "    <tr style=\"text-align: right;\">\n",
       "      <th></th>\n",
       "      <th>filename</th>\n",
       "      <th>width</th>\n",
       "      <th>height</th>\n",
       "      <th>class</th>\n",
       "      <th>xmin</th>\n",
       "      <th>ymin</th>\n",
       "      <th>xmax</th>\n",
       "      <th>ymax</th>\n",
       "    </tr>\n",
       "  </thead>\n",
       "  <tbody>\n",
       "    <tr>\n",
       "      <th>0</th>\n",
       "      <td>1.jpg</td>\n",
       "      <td>960</td>\n",
       "      <td>960</td>\n",
       "      <td>1</td>\n",
       "      <td>677</td>\n",
       "      <td>373</td>\n",
       "      <td>761</td>\n",
       "      <td>401</td>\n",
       "    </tr>\n",
       "    <tr>\n",
       "      <th>1</th>\n",
       "      <td>10.jpg</td>\n",
       "      <td>960</td>\n",
       "      <td>960</td>\n",
       "      <td>1</td>\n",
       "      <td>500</td>\n",
       "      <td>468</td>\n",
       "      <td>553</td>\n",
       "      <td>537</td>\n",
       "    </tr>\n",
       "    <tr>\n",
       "      <th>2</th>\n",
       "      <td>100.jpg</td>\n",
       "      <td>661</td>\n",
       "      <td>661</td>\n",
       "      <td>1</td>\n",
       "      <td>403</td>\n",
       "      <td>417</td>\n",
       "      <td>479</td>\n",
       "      <td>474</td>\n",
       "    </tr>\n",
       "    <tr>\n",
       "      <th>3</th>\n",
       "      <td>100.jpg</td>\n",
       "      <td>661</td>\n",
       "      <td>661</td>\n",
       "      <td>1</td>\n",
       "      <td>441</td>\n",
       "      <td>499</td>\n",
       "      <td>548</td>\n",
       "      <td>563</td>\n",
       "    </tr>\n",
       "    <tr>\n",
       "      <th>4</th>\n",
       "      <td>100.jpg</td>\n",
       "      <td>661</td>\n",
       "      <td>661</td>\n",
       "      <td>1</td>\n",
       "      <td>6</td>\n",
       "      <td>563</td>\n",
       "      <td>85</td>\n",
       "      <td>593</td>\n",
       "    </tr>\n",
       "  </tbody>\n",
       "</table>\n",
       "</div>"
      ],
      "text/plain": [
       "  filename  width  height  class  xmin  ymin  xmax  ymax\n",
       "0    1.jpg    960     960      1   677   373   761   401\n",
       "1   10.jpg    960     960      1   500   468   553   537\n",
       "2  100.jpg    661     661      1   403   417   479   474\n",
       "3  100.jpg    661     661      1   441   499   548   563\n",
       "4  100.jpg    661     661      1     6   563    85   593"
      ]
     },
     "execution_count": 3,
     "metadata": {},
     "output_type": "execute_result"
    }
   ],
   "source": [
    "data = pd.read_csv(\"Combined_labels.csv\")\n",
    "data.head()"
   ]
  },
  {
   "cell_type": "code",
   "execution_count": 8,
   "id": "ef6eb2f6-73f0-4e48-b37f-129956a66b6a",
   "metadata": {},
   "outputs": [
    {
     "data": {
      "text/plain": [
       "(455, 8)"
      ]
     },
     "execution_count": 8,
     "metadata": {},
     "output_type": "execute_result"
    }
   ],
   "source": [
    "data.shape"
   ]
  },
  {
   "cell_type": "markdown",
   "id": "eb0a064c-105d-4d4e-96e5-a0bd5be3be35",
   "metadata": {},
   "source": [
    "Omit object class 2 (out of focus) and 3 (10X) to keep class 1 (40X in focus images)"
   ]
  },
  {
   "cell_type": "code",
   "execution_count": 59,
   "id": "6ff901ef-4164-4279-95a7-a01f26ebaf3f",
   "metadata": {},
   "outputs": [
    {
     "data": {
      "text/plain": [
       "(324, 8)"
      ]
     },
     "execution_count": 59,
     "metadata": {},
     "output_type": "execute_result"
    }
   ],
   "source": [
    "data = data[data['class'] == 1]\n",
    "data.shape"
   ]
  },
  {
   "cell_type": "markdown",
   "id": "8e2968fa-f9a6-4c66-81c7-e3061514396d",
   "metadata": {},
   "source": [
    "Assign modeling groups"
   ]
  },
  {
   "cell_type": "code",
   "execution_count": 65,
   "id": "0de054d1-b69d-46c6-8ba3-126a75ecd2b6",
   "metadata": {},
   "outputs": [],
   "source": [
    "data2 = data.drop_duplicates(subset = ['filename'])"
   ]
  },
  {
   "cell_type": "code",
   "execution_count": 74,
   "id": "5cb8f589-6feb-450f-8d39-2ddda77b57eb",
   "metadata": {},
   "outputs": [],
   "source": [
    "np.random.seed(42)\n",
    "wookie = np.random.randint(1, 10000, size=len(data2['filename']))/10000\n",
    "groups = np.where(wookie <= 0.2, (np.where(wookie <= 0.1, 'VALIDATION', 'TESTING')),'TRAINING')"
   ]
  },
  {
   "cell_type": "code",
   "execution_count": 89,
   "id": "9c4554dd-958e-4c99-b009-d7c6f4782f07",
   "metadata": {},
   "outputs": [
    {
     "data": {
      "text/plain": [
       "324"
      ]
     },
     "execution_count": 89,
     "metadata": {},
     "output_type": "execute_result"
    }
   ],
   "source": [
    "traingroup = []\n",
    "\n",
    "for filename in data['filename']:\n",
    "    traingroup.append(groups[data2['filename'] == filename][0])\n",
    "    \n",
    "len(traingroup)"
   ]
  },
  {
   "cell_type": "markdown",
   "id": "27127cff-4c9d-403a-87cf-331f66371447",
   "metadata": {},
   "source": [
    "tflite_model_maker csv structure"
   ]
  },
  {
   "cell_type": "code",
   "execution_count": 90,
   "id": "e5462d40-8fc2-4c32-a4ff-ad42bd34a766",
   "metadata": {},
   "outputs": [],
   "source": [
    "filepath = []\n",
    "object_class = []\n",
    "xmin = []\n",
    "ymin = []\n",
    "TRX = []\n",
    "TRY = []\n",
    "xmax = []\n",
    "ymax = []\n",
    "BLX = []\n",
    "BLY = []"
   ]
  },
  {
   "cell_type": "markdown",
   "id": "ccac9c6e-827e-48f8-9904-7e389387f592",
   "metadata": {
    "tags": []
   },
   "source": [
    "fill vectors"
   ]
  },
  {
   "cell_type": "code",
   "execution_count": 91,
   "id": "03fdf197-5128-4eaa-80c5-dfcf745d3b63",
   "metadata": {},
   "outputs": [],
   "source": [
    "filepath = (list(data['filename'].values))\n",
    "object_class = (list(data['class'].values))\n",
    "xmin = (list(data['xmin'].values/data['width']))\n",
    "ymin = (list(data['ymin'].values/data['height']))\n",
    "xmax = (list(data['xmax'].values/data['width']))\n",
    "ymax = (list(data['ymax'].values/data['height']))\n",
    "TRX = ([''] *len(data['filename']))\n",
    "TRY = ([''] *len(data['filename']))\n",
    "BLX = ([''] *len(data['filename']))\n",
    "BLY = ([''] *len(data['filename']))"
   ]
  },
  {
   "cell_type": "markdown",
   "id": "efccaa01-5f55-4f5e-b796-c3d3ac8958c0",
   "metadata": {},
   "source": [
    "Build tf_lite csv"
   ]
  },
  {
   "cell_type": "code",
   "execution_count": 92,
   "id": "9da7524b-d908-413c-b8ee-2e96502f407a",
   "metadata": {},
   "outputs": [],
   "source": [
    "tensorflow = {\n",
    "    'traingroup': traingroup, \n",
    "    'filepath': filepath, \n",
    "    'object_class': object_class, \n",
    "    'xmin': xmin, \n",
    "    'ymin': ymin, \n",
    "    'TRX': TRX, \n",
    "    'TRY': TRY, \n",
    "    'xmax': xmax, \n",
    "    'ymax': ymax, \n",
    "    'BLX': BLX, \n",
    "    'BLY': BLY}"
   ]
  },
  {
   "cell_type": "code",
   "execution_count": 93,
   "id": "f23027e4-8095-4113-b061-92fbcaebedee",
   "metadata": {},
   "outputs": [
    {
     "data": {
      "text/html": [
       "<div>\n",
       "<style scoped>\n",
       "    .dataframe tbody tr th:only-of-type {\n",
       "        vertical-align: middle;\n",
       "    }\n",
       "\n",
       "    .dataframe tbody tr th {\n",
       "        vertical-align: top;\n",
       "    }\n",
       "\n",
       "    .dataframe thead th {\n",
       "        text-align: right;\n",
       "    }\n",
       "</style>\n",
       "<table border=\"1\" class=\"dataframe\">\n",
       "  <thead>\n",
       "    <tr style=\"text-align: right;\">\n",
       "      <th></th>\n",
       "      <th>traingroup</th>\n",
       "      <th>filepath</th>\n",
       "      <th>object_class</th>\n",
       "      <th>xmin</th>\n",
       "      <th>ymin</th>\n",
       "      <th>TRX</th>\n",
       "      <th>TRY</th>\n",
       "      <th>xmax</th>\n",
       "      <th>ymax</th>\n",
       "      <th>BLX</th>\n",
       "      <th>BLY</th>\n",
       "    </tr>\n",
       "  </thead>\n",
       "  <tbody>\n",
       "    <tr>\n",
       "      <th>0</th>\n",
       "      <td>TRAINING</td>\n",
       "      <td>1.jpg</td>\n",
       "      <td>1</td>\n",
       "      <td>0.705208</td>\n",
       "      <td>0.388542</td>\n",
       "      <td></td>\n",
       "      <td></td>\n",
       "      <td>0.792708</td>\n",
       "      <td>0.417708</td>\n",
       "      <td></td>\n",
       "      <td></td>\n",
       "    </tr>\n",
       "    <tr>\n",
       "      <th>1</th>\n",
       "      <td>VALIDATION</td>\n",
       "      <td>10.jpg</td>\n",
       "      <td>1</td>\n",
       "      <td>0.520833</td>\n",
       "      <td>0.487500</td>\n",
       "      <td></td>\n",
       "      <td></td>\n",
       "      <td>0.576042</td>\n",
       "      <td>0.559375</td>\n",
       "      <td></td>\n",
       "      <td></td>\n",
       "    </tr>\n",
       "    <tr>\n",
       "      <th>2</th>\n",
       "      <td>TRAINING</td>\n",
       "      <td>100.jpg</td>\n",
       "      <td>1</td>\n",
       "      <td>0.609682</td>\n",
       "      <td>0.630862</td>\n",
       "      <td></td>\n",
       "      <td></td>\n",
       "      <td>0.724660</td>\n",
       "      <td>0.717095</td>\n",
       "      <td></td>\n",
       "      <td></td>\n",
       "    </tr>\n",
       "    <tr>\n",
       "      <th>3</th>\n",
       "      <td>TRAINING</td>\n",
       "      <td>100.jpg</td>\n",
       "      <td>1</td>\n",
       "      <td>0.667171</td>\n",
       "      <td>0.754917</td>\n",
       "      <td></td>\n",
       "      <td></td>\n",
       "      <td>0.829047</td>\n",
       "      <td>0.851740</td>\n",
       "      <td></td>\n",
       "      <td></td>\n",
       "    </tr>\n",
       "    <tr>\n",
       "      <th>4</th>\n",
       "      <td>TRAINING</td>\n",
       "      <td>100.jpg</td>\n",
       "      <td>1</td>\n",
       "      <td>0.009077</td>\n",
       "      <td>0.851740</td>\n",
       "      <td></td>\n",
       "      <td></td>\n",
       "      <td>0.128593</td>\n",
       "      <td>0.897126</td>\n",
       "      <td></td>\n",
       "      <td></td>\n",
       "    </tr>\n",
       "    <tr>\n",
       "      <th>...</th>\n",
       "      <td>...</td>\n",
       "      <td>...</td>\n",
       "      <td>...</td>\n",
       "      <td>...</td>\n",
       "      <td>...</td>\n",
       "      <td>...</td>\n",
       "      <td>...</td>\n",
       "      <td>...</td>\n",
       "      <td>...</td>\n",
       "      <td>...</td>\n",
       "      <td>...</td>\n",
       "    </tr>\n",
       "    <tr>\n",
       "      <th>319</th>\n",
       "      <td>TRAINING</td>\n",
       "      <td>a7.jpg</td>\n",
       "      <td>1</td>\n",
       "      <td>0.435065</td>\n",
       "      <td>0.779221</td>\n",
       "      <td></td>\n",
       "      <td></td>\n",
       "      <td>0.551948</td>\n",
       "      <td>0.954545</td>\n",
       "      <td></td>\n",
       "      <td></td>\n",
       "    </tr>\n",
       "    <tr>\n",
       "      <th>320</th>\n",
       "      <td>TRAINING</td>\n",
       "      <td>a7.jpg</td>\n",
       "      <td>1</td>\n",
       "      <td>0.305195</td>\n",
       "      <td>0.396104</td>\n",
       "      <td></td>\n",
       "      <td></td>\n",
       "      <td>0.435065</td>\n",
       "      <td>0.571429</td>\n",
       "      <td></td>\n",
       "      <td></td>\n",
       "    </tr>\n",
       "    <tr>\n",
       "      <th>321</th>\n",
       "      <td>TRAINING</td>\n",
       "      <td>a7.jpg</td>\n",
       "      <td>1</td>\n",
       "      <td>0.097403</td>\n",
       "      <td>0.019481</td>\n",
       "      <td></td>\n",
       "      <td></td>\n",
       "      <td>0.240260</td>\n",
       "      <td>0.246753</td>\n",
       "      <td></td>\n",
       "      <td></td>\n",
       "    </tr>\n",
       "    <tr>\n",
       "      <th>322</th>\n",
       "      <td>TRAINING</td>\n",
       "      <td>a8.jpg</td>\n",
       "      <td>1</td>\n",
       "      <td>0.189189</td>\n",
       "      <td>0.464865</td>\n",
       "      <td></td>\n",
       "      <td></td>\n",
       "      <td>0.545946</td>\n",
       "      <td>0.659459</td>\n",
       "      <td></td>\n",
       "      <td></td>\n",
       "    </tr>\n",
       "    <tr>\n",
       "      <th>323</th>\n",
       "      <td>TRAINING</td>\n",
       "      <td>a9.jpg</td>\n",
       "      <td>1</td>\n",
       "      <td>0.412451</td>\n",
       "      <td>0.334630</td>\n",
       "      <td></td>\n",
       "      <td></td>\n",
       "      <td>0.556420</td>\n",
       "      <td>0.622568</td>\n",
       "      <td></td>\n",
       "      <td></td>\n",
       "    </tr>\n",
       "  </tbody>\n",
       "</table>\n",
       "<p>324 rows × 11 columns</p>\n",
       "</div>"
      ],
      "text/plain": [
       "     traingroup filepath  object_class      xmin      ymin TRX TRY      xmax  \\\n",
       "0      TRAINING    1.jpg             1  0.705208  0.388542          0.792708   \n",
       "1    VALIDATION   10.jpg             1  0.520833  0.487500          0.576042   \n",
       "2      TRAINING  100.jpg             1  0.609682  0.630862          0.724660   \n",
       "3      TRAINING  100.jpg             1  0.667171  0.754917          0.829047   \n",
       "4      TRAINING  100.jpg             1  0.009077  0.851740          0.128593   \n",
       "..          ...      ...           ...       ...       ...  ..  ..       ...   \n",
       "319    TRAINING   a7.jpg             1  0.435065  0.779221          0.551948   \n",
       "320    TRAINING   a7.jpg             1  0.305195  0.396104          0.435065   \n",
       "321    TRAINING   a7.jpg             1  0.097403  0.019481          0.240260   \n",
       "322    TRAINING   a8.jpg             1  0.189189  0.464865          0.545946   \n",
       "323    TRAINING   a9.jpg             1  0.412451  0.334630          0.556420   \n",
       "\n",
       "         ymax BLX BLY  \n",
       "0    0.417708          \n",
       "1    0.559375          \n",
       "2    0.717095          \n",
       "3    0.851740          \n",
       "4    0.897126          \n",
       "..        ...  ..  ..  \n",
       "319  0.954545          \n",
       "320  0.571429          \n",
       "321  0.246753          \n",
       "322  0.659459          \n",
       "323  0.622568          \n",
       "\n",
       "[324 rows x 11 columns]"
      ]
     },
     "execution_count": 93,
     "metadata": {},
     "output_type": "execute_result"
    }
   ],
   "source": [
    "df=pd.DataFrame(tensorflow)\n",
    "df"
   ]
  },
  {
   "cell_type": "code",
   "execution_count": 96,
   "id": "dbacb79a-4af1-47d6-b8f5-654a533ba63b",
   "metadata": {},
   "outputs": [],
   "source": [
    "df.to_csv('data.csv', index=None)"
   ]
  },
  {
   "cell_type": "code",
   "execution_count": null,
   "id": "35ccd484-0baa-4a5f-b477-6a5ad31fc862",
   "metadata": {},
   "outputs": [],
   "source": []
  }
 ],
 "metadata": {
  "kernelspec": {
   "display_name": "Python 3",
   "language": "python",
   "name": "python3"
  },
  "language_info": {
   "codemirror_mode": {
    "name": "ipython",
    "version": 3
   },
   "file_extension": ".py",
   "mimetype": "text/x-python",
   "name": "python",
   "nbconvert_exporter": "python",
   "pygments_lexer": "ipython3",
   "version": "3.8.8"
  }
 },
 "nbformat": 4,
 "nbformat_minor": 5
}
